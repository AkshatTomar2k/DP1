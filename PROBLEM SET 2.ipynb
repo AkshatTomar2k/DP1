{
 "cells": [
  {
   "cell_type": "code",
   "execution_count": null,
   "id": "f5bea1c5",
   "metadata": {},
   "outputs": [],
   "source": [
    "Question 1\n",
    "\n",
    "Consider the following Python module:\n",
    "a = 0\n",
    "def b():\n",
    " global a\n",
    " a = c(a)\n",
    "def c(a):\n",
    " return a + 2\n",
    "After importing the module into the interpreter, you execute:\n",
    ">>> b()\n",
    ">>> b()\n",
    ">>> b()\n",
    ">>> a\n",
    "?\n",
    "What value is displayed when the last expression (a) is evaluated? Explain your\n",
    "answer by indicating what happens in every executed statement"
   ]
  },
  {
   "cell_type": "code",
   "execution_count": 1,
   "id": "a1e70afd",
   "metadata": {},
   "outputs": [],
   "source": [
    "a = 0\n",
    "\n",
    "def b():\n",
    "    global a\n",
    "    a = c(a)\n",
    "    \n",
    "def c(a):\n",
    "    return a + 2"
   ]
  },
  {
   "cell_type": "code",
   "execution_count": 2,
   "id": "df14eb8c",
   "metadata": {},
   "outputs": [],
   "source": [
    "b()\n",
    "b()\n",
    "b()\n"
   ]
  },
  {
   "cell_type": "code",
   "execution_count": 3,
   "id": "56f6ab70",
   "metadata": {},
   "outputs": [
    {
     "data": {
      "text/plain": [
       "6"
      ]
     },
     "execution_count": 3,
     "metadata": {},
     "output_type": "execute_result"
    }
   ],
   "source": [
    "a"
   ]
  },
  {
   "cell_type": "code",
   "execution_count": null,
   "id": "976a6500",
   "metadata": {},
   "outputs": [],
   "source": [
    "Question 2\n",
    "\n",
    "\n",
    "Function fileLength(), given to you, takes the name of a file as input and returns\n",
    "the length of the file:\n",
    ">>> fileLength('midterm.py')\n",
    "284\n",
    ">>> fileLength('idterm.py')\n",
    "Traceback (most recent call last):\n",
    "File \"<pyshell#34>\", line 1, in <module>\n",
    " fileLength('idterm.py')\n",
    "File \"/Users/me/midterm.py\", line 3, in fileLength\n",
    " infile = open(filename)\n",
    "FileNotFoundError: [Errno 2] No such file or directory:\n",
    "'idterm.py'\n",
    "As shown above, if the file cannot be found by the interpreter or if it cannot be read\n",
    "as a text file, an exception will be raised. Modify function fileLength() so that a\n",
    "friendly message is printed instead:\n",
    ">>> fileLength('midterm.py')\n",
    "358\n",
    ">>> fileLength('idterm.py')\n",
    "File idterm.py not found."
   ]
  },
  {
   "cell_type": "code",
   "execution_count": 7,
   "id": "077451bd",
   "metadata": {},
   "outputs": [],
   "source": [
    "def fileLength(F_name):  #defining a function and F_name denotes name of file to open\n",
    "    try:\n",
    "        \n",
    "        o=open(F_name) #Opening the file f_name\n",
    "        b=o.read()    #Reading file to check length\n",
    "        len(b)       #Checking length of file\n",
    "        \n",
    "        return len(b) #returning length of file\n",
    "        \n",
    "    except FileNotFoundError:   #if file is not found, this exception will come into play \n",
    "        print(\"File \"+F_name+ \" not found.\") #and then th"
   ]
  },
  {
   "cell_type": "code",
   "execution_count": 8,
   "id": "b99bcd02",
   "metadata": {},
   "outputs": [
    {
     "name": "stdout",
     "output_type": "stream",
     "text": [
      "File first.py not found.\n"
     ]
    }
   ],
   "source": [
    "fileLength(\"first.py\")"
   ]
  },
  {
   "cell_type": "code",
   "execution_count": null,
   "id": "f887c382",
   "metadata": {},
   "outputs": [],
   "source": [
    "Question 3\n",
    "\n",
    "Write a class named Marsupial that can be used as shown below:\n",
    ">>> m = Marsupial()\n",
    ">>> m.put_in_pouch('doll')\n",
    ">>> m.put_in_pouch('firetruck')\n",
    ">>> m.put_in_pouch('kitten')\n",
    ">>> m.pouch_contents()\n",
    "['doll', 'firetruck', 'kitten']\n",
    "Now write a class named Kangaroo as a subclass of Marsupial that inherits all the\n",
    "attributes of Marsupial and also:\n",
    "a. extends the Marsupial __init__ constructor to take, as input, the\n",
    "coordinates x and y of the Kangaroo object,\n",
    "b. supports method jump that takes number values dx and dy as input and\n",
    "moves the kangaroo by dx units along the x-axis and by dy units along the yaxis, and\n",
    "c. overloads the __str__ operator so it behaves as shown below.\n",
    ">>> k = Kangaroo(0,0)\n",
    ">>> print(k)\n",
    "I am a Kangaroo located at coordinates (0,0)\n",
    ">>> k.put_in_pouch('doll')\n",
    ">>> k.put_in_pouch('firetruck')\n",
    ">>> k.put_in_pouch('kitten')\n",
    ">>> k.pouch_contents()\n",
    "['doll', 'firetruck', 'kitten']\n",
    ">>> k.jump(1,0)\n",
    ">>> k.jump(1,0)\n",
    ">>> k.jump(1,0)\n",
    ">>> print(k)\n",
    "I am a Kangaroo located at coordinates (3,0)"
   ]
  },
  {
   "cell_type": "code",
   "execution_count": 5,
   "id": "278902fc",
   "metadata": {},
   "outputs": [],
   "source": [
    "class Marsupial: #defining a class \n",
    "    \n",
    "    def __init__(main):  #defining __init__ fucntion \n",
    "        main.pouch=[]  #creating an empty list \n",
    "        \n",
    "    def put_in_pouch(main,item): #definning function to add items in list\n",
    "                main.pouch.append(item)  #appending items\n",
    "        \n",
    "    def pouch_contents(main):   #returning the contents of list     \n",
    "        return (main.pouch)\n",
    "        \n",
    "class Kangaroo(Marsupial):  # creating kangaroo class that inherits Marsupial\n",
    "    \n",
    "        def __init__(main,x,y): # defining __init function that inherits main and adding x and y co-ordinates.\n",
    "            main.x=x   \n",
    "            main.y=y\n",
    "            Marsupial.__init__(main)\n",
    "            \n",
    "        def jump(main,dx,dy): #defining function Jump that adding the  dx and dy \n",
    "            main.x=main.x+dy  #adding the Co-ordinates \n",
    "            main.y=main.y+dy\n",
    "            \n",
    "        def __str__(main): # This method returns the string representation of the object. \n",
    "            return (\"I am a Kangaroo located at coordinates(\" +str(main.x)+ \",\" +str(main.y)+ \")\")\n",
    "            "
   ]
  },
  {
   "cell_type": "code",
   "execution_count": 6,
   "id": "a6f2fa0e",
   "metadata": {},
   "outputs": [
    {
     "name": "stdout",
     "output_type": "stream",
     "text": [
      "I am a Kangaroo located at coordinates(0,0)\n"
     ]
    }
   ],
   "source": [
    "k = Kangaroo(0,0)\n",
    "print(k)"
   ]
  },
  {
   "cell_type": "code",
   "execution_count": null,
   "id": "3a80c3b6",
   "metadata": {},
   "outputs": [],
   "source": [
    "Question 4\n",
    "\n",
    "\n",
    "Write function collatz() that takes a positive integer x as input and prints the\n",
    "Collatz sequence starting at x. A Collatz sequence is obtained by repeatedly applying\n",
    "this rule to the previous number x in the sequence:\n",
    "x = {\n",
    "𝑥/2 𝑖𝑓 𝑥 𝑖𝑠 𝑒𝑣𝑒𝑛\n",
    "3𝑥 + 1 𝑖𝑓 𝑥 𝑖𝑠 𝑜𝑑𝑑\n",
    "Your function should stop when the sequence gets to number 1. Your\n",
    "implementation must be recursive, without any loops.\n",
    ">>> collatz(1)\n",
    "1\n",
    ">>> collatz(10)\n",
    "10\n",
    "5\n",
    "16\n",
    "8\n",
    "4\n",
    "2\n",
    "1"
   ]
  },
  {
   "cell_type": "code",
   "execution_count": 9,
   "id": "ab0acfa3",
   "metadata": {},
   "outputs": [],
   "source": [
    "def collatz(a):  # defining function collatz that take integer n.\n",
    "      \n",
    "    while a != 1: # running statment till n is not equal to 1.\n",
    "        print(a) #printing value of n \n",
    "        \n",
    "         \n",
    "        if a % 2 ==0:  #if n is even then deviding n by 2 \n",
    "            a = a // 2\n",
    "           \n",
    "        else:  #if n is odd then multiplying odd with 3 and adding 1.\n",
    "             a = 3 * a + 1\n",
    "                \n",
    "   \n",
    "    print(a) #printing at the end when n==1"
   ]
  },
  {
   "cell_type": "code",
   "execution_count": 10,
   "id": "d8962585",
   "metadata": {},
   "outputs": [
    {
     "name": "stdout",
     "output_type": "stream",
     "text": [
      "10\n",
      "5\n",
      "16\n",
      "8\n",
      "4\n",
      "2\n",
      "1\n"
     ]
    }
   ],
   "source": [
    "collatz(10)"
   ]
  },
  {
   "cell_type": "code",
   "execution_count": null,
   "id": "9094539b",
   "metadata": {},
   "outputs": [],
   "source": [
    "Question 5\n",
    "\n",
    "\n",
    "Write a recursive method binary() that takes a non-negative\n",
    "integer n and prints the binary representation of integer n.\n",
    ">>> binary(0)\n",
    "0\n",
    ">>> binary(1)\n",
    "1\n",
    ">>> binary(3)\n",
    "11\n",
    ">>> binary(9)\n",
    "1001"
   ]
  },
  {
   "cell_type": "code",
   "execution_count": 10,
   "id": "a5f4bd8b",
   "metadata": {},
   "outputs": [
    {
     "name": "stdout",
     "output_type": "stream",
     "text": [
      "0\n",
      "1\n",
      "11\n",
      "1001\n"
     ]
    }
   ],
   "source": [
    "def binary(a):  #defining function binary and defining int a\n",
    "    if a > 1:  #if a is non negative this go furthur\n",
    "        binary(a//2)\n",
    "    print(a % 2,end = '')\n",
    "\n",
    "binary(0) # 0\n",
    "print()\n",
    "binary(1) # 1\n",
    "print()\n",
    "binary(3) # 11\n",
    "print()\n",
    "binary(9)# 1001\n",
    "print()\n"
   ]
  },
  {
   "cell_type": "code",
   "execution_count": null,
   "id": "d37ca36b",
   "metadata": {},
   "outputs": [],
   "source": [
    "Question 8\n",
    "Write SQL queries on the below database table that return:\n",
    "a) All the temperature data.\n",
    "b) All the cities, but without repetition.\n",
    "c) All the records for India.\n",
    "d) All the Fall records.\n",
    "e) The city, country, and season for which the average rainfall is between 200\n",
    "and 400 millimeters.\n",
    "f) The city and country for which the average Fall temperature is above 20\n",
    "degrees, in increasing temperature order.\n",
    "g) The total annual rainfall for Cairo.\n",
    "h) The total rainfall for each season.\n",
    "City Country Season Temperature\n",
    "(C)\n",
    "Rainfall\n",
    "(mm)\n",
    "Mumbai India Winter 24.8 5.9\n",
    "Mumbai India Spring 28.4 16.2\n",
    "Mumbai India Summer 27.9 1549.4\n",
    "Mumbai India Fall 27.6 346.0\n",
    "London United Kingdom Winter 4.2 207.7\n",
    "London United Kingdom Spring 8.3 169.6\n",
    "London United Kingdom Summer 15.7 157.0\n",
    "London United Kingdom Fall 10.4 218.5\n",
    "Cairo Egypt Winter 13.6 16.5\n",
    "Cairo Egypt Spring 20.7 6.5\n",
    "Cairo Egypt Summer 27.7 0.1\n",
    "Cairo Egypt Fall 22.2 4.5 "
   ]
  },
  {
   "cell_type": "code",
   "execution_count": 73,
   "id": "d39fef35",
   "metadata": {
    "scrolled": true
   },
   "outputs": [],
   "source": [
    "# MY TABLE\n",
    "\n",
    "import sqlite3\n",
    "DATA = sqlite3.connect('tabl_cities2.db')\n",
    "cursor1 = DATA.cursor()\n",
    "connection = cursor1.execute(\"CREATE TABLE OUTPUT (City text, Country text, Season text, Temperature float, Rainfall float)\")\n",
    "rows = [('Mumbai', 'India', 'Winter', 24.8, 5.9), ('Mumbai', 'India', 'Spring', 28.4, 16.2), ('Mumbai', 'India', 'summer', 27.9, 1549.4 ), ('Mumbai', 'India', 'Fall', 27.6 , 346.0), ('London', 'United Kingdom', 'Winter', 4.2, 207.7),('London', 'United Kingdom', 'Spring', 8.3, 169.6), ('London', 'United Kingdom', 'Summer', 15.7, 157.0), ('London', 'United Kingdom', 'Fall' , 10.4, 218.5), ('Cairo', 'Egypt', 'Winter', 13.6, 16.5), ('Cairo', 'Egypt', 'Spring', 20.7, 6.5), ('Cairo', 'Egypt', 'Summer', 27.7, 0.1), ('Cairo', 'Egypt', 'Fall', 22.2, 4.5)]\n",
    "for row in rows:\n",
    "    cursor1.execute(\"INSERT INTO OUTPUT VALUES(?, ?, ?, ?, ?)\", (row[0], row[1], row[2], row[3], row[4]))\n",
    "#     print(row)"
   ]
  },
  {
   "cell_type": "code",
   "execution_count": 74,
   "id": "b26a0e7a",
   "metadata": {},
   "outputs": [
    {
     "name": "stdout",
     "output_type": "stream",
     "text": [
      "(24.8,)\n",
      "(28.4,)\n",
      "(27.9,)\n",
      "(27.6,)\n",
      "(4.2,)\n",
      "(8.3,)\n",
      "(15.7,)\n",
      "(10.4,)\n",
      "(13.6,)\n",
      "(20.7,)\n",
      "(27.7,)\n",
      "(22.2,)\n"
     ]
    }
   ],
   "source": [
    "cursor1.execute(\"SELECT Temperature FROM OUTPUT\")\n",
    "akshat = cursor1.fetchall()\n",
    "for x in akshat:\n",
    "    print(x)\n",
    "\n",
    "\n"
   ]
  },
  {
   "cell_type": "code",
   "execution_count": 75,
   "id": "44e3cd69",
   "metadata": {},
   "outputs": [
    {
     "name": "stdout",
     "output_type": "stream",
     "text": [
      "('Mumbai',)\n",
      "('London',)\n",
      "('Cairo',)\n"
     ]
    }
   ],
   "source": [
    "cursor1.execute(\"SELECT DISTINCT City FROM OUTPUT\")\n",
    "akshat = cursor1.fetchall()\n",
    "for x in akshat:\n",
    "    print(x)\n"
   ]
  },
  {
   "cell_type": "code",
   "execution_count": 76,
   "id": "85fac54c",
   "metadata": {},
   "outputs": [
    {
     "name": "stdout",
     "output_type": "stream",
     "text": [
      "('Mumbai', 'India', 'Winter', 24.8, 5.9)\n",
      "('Mumbai', 'India', 'Spring', 28.4, 16.2)\n",
      "('Mumbai', 'India', 'summer', 27.9, 1549.4)\n",
      "('Mumbai', 'India', 'Fall', 27.6, 346.0)\n"
     ]
    }
   ],
   "source": [
    "cursor1.execute(\"SELECT * FROM OUTPUT WHERE Country = 'India'\")\n",
    "akshat = cursor1.fetchall()\n",
    "for x in akshat:\n",
    "    print(x)"
   ]
  },
  {
   "cell_type": "code",
   "execution_count": 77,
   "id": "44e7a005",
   "metadata": {},
   "outputs": [
    {
     "name": "stdout",
     "output_type": "stream",
     "text": [
      "('Mumbai', 'India', 'Fall', 27.6, 346.0)\n",
      "('London', 'United Kingdom', 'Fall', 10.4, 218.5)\n",
      "('Cairo', 'Egypt', 'Fall', 22.2, 4.5)\n"
     ]
    }
   ],
   "source": [
    "cursor1.execute(\"SELECT * FROM OUTPUT WHERE Season = 'Fall'\")\n",
    "akshat = cursor1.fetchall()\n",
    "for x in akshat:\n",
    "    print(x)"
   ]
  },
  {
   "cell_type": "code",
   "execution_count": 78,
   "id": "1549274f",
   "metadata": {},
   "outputs": [
    {
     "name": "stdout",
     "output_type": "stream",
     "text": [
      "('London', 'United Kingdom', 'Fall')\n",
      "('London', 'United Kingdom', 'Winter')\n",
      "('Mumbai', 'India', 'Fall')\n"
     ]
    }
   ],
   "source": [
    "cursor1.execute(\"SELECT City, Country, Season FROM OUTPUT GROUP BY City, Country, Season HAVING AVG(Rainfall) BETWEEN 200 AND 400\")\n",
    "akshat = cursor1.fetchall()\n",
    "for x in akshat:\n",
    "    print(x)"
   ]
  },
  {
   "cell_type": "code",
   "execution_count": 79,
   "id": "68a3cd1b",
   "metadata": {},
   "outputs": [
    {
     "name": "stdout",
     "output_type": "stream",
     "text": [
      "('Cairo', 'Egypt')\n",
      "('Mumbai', 'India')\n"
     ]
    }
   ],
   "source": [
    "cursor1.execute(\"SELECT City, Country FROM OUTPUT WHERE Season = 'Fall' AND Temperature > 20 ORDER BY Temperature ASC\")\n",
    "akshat = cursor1.fetchall()\n",
    "for x in akshat:\n",
    "    print(x)"
   ]
  },
  {
   "cell_type": "code",
   "execution_count": 80,
   "id": "2b3c7973",
   "metadata": {},
   "outputs": [
    {
     "name": "stdout",
     "output_type": "stream",
     "text": [
      "(27.6,)\n"
     ]
    }
   ],
   "source": [
    "cursor1.execute(\"SELECT SUM(Rainfall) AS TotalRainfall FROM OUTPUT WHERE City = 'Cairo';\")\n",
    "akshat = cursor1.fetchall()\n",
    "for x in akshat:\n",
    "    print(x)"
   ]
  },
  {
   "cell_type": "code",
   "execution_count": 81,
   "id": "2dd3593c",
   "metadata": {},
   "outputs": [
    {
     "name": "stdout",
     "output_type": "stream",
     "text": [
      "('Fall', 569.0)\n",
      "('Spring', 192.29999999999998)\n",
      "('Summer', 157.1)\n",
      "('Winter', 230.1)\n",
      "('summer', 1549.4)\n"
     ]
    }
   ],
   "source": [
    "cursor1.execute(\"SELECT Season, SUM(Rainfall) AS TotalRainfall FROM OUTPUT GROUP BY Season\")\n",
    "akshat = cursor1.fetchall()\n",
    "for x in akshat:\n",
    "    print(x)"
   ]
  },
  {
   "cell_type": "code",
   "execution_count": null,
   "id": "4a235c13",
   "metadata": {},
   "outputs": [],
   "source": [
    "Question 9\n",
    "\n",
    "\n",
    ". Suppose list words is defined as follows:\n",
    ">>> words = ['The', 'quick', 'brown', 'fox', 'jumps', 'over',\n",
    "'the', 'lazy', 'dog']\n",
    "Write list comprehension expressions that use list words and generate the following\n",
    "lists:\n",
    "a) ['THE', 'QUICK', 'BROWN', 'FOX', 'JUMPS', 'OVER', 'THE',\n",
    "'LAZY', 'DOG']\n",
    "b) ['the', 'quick', 'brown', 'fox', 'jumps', 'over', 'the',\n",
    "'lazy', 'dog']\n",
    "c) [3, 5, 5, 3, 5, 4, 3, 4, 3] (the list of lengths of words in list\n",
    "words).\n",
    "d) [['THE', 'the', 3], ['QUICK', 'quick', 5], ['BROWN',\n",
    "'brown', 5], ['FOX', 'fox', 3], ['JUMPS', 'jumps', 5],\n",
    "['OVER', 'over', 4], ['THE', 'the', 3], ['LAZY', 'lazy',\n",
    "4], ['DOG', 'dog', 3]] (the list containing a list for every word of list\n",
    "words, where each list contains the word in uppercase and lowercase and the\n",
    "length of the word.)\n",
    "e) ['The', 'quick', 'brown', 'fox', 'jumps', 'over', 'the',\n",
    "'lazy', 'dog'] (the list of words in list words containing 4 or more\n",
    "characters.)"
   ]
  },
  {
   "cell_type": "code",
   "execution_count": 14,
   "id": "51eeabb8",
   "metadata": {},
   "outputs": [
    {
     "name": "stdout",
     "output_type": "stream",
     "text": [
      "a) ['THE', 'QUICK', 'BROWN', 'FOX', 'JUMPS', 'OVER', 'THE', 'LAZY', 'DOG']\n",
      "b) ['the', 'quick', 'brown', 'fox', 'jumps', 'over', 'the', 'lazy', 'dog']\n",
      "c) [3, 5, 5, 3, 5, 4, 3, 4, 3]\n",
      "d) [['THE', 'the', 3], ['QUICK', 'quick', 5], ['BROWN', 'brown', 5], ['FOX', 'fox', 3], ['JUMPS', 'jumps', 5], ['OVER', 'over', 4], ['THE', 'the', 3], ['LAZY', 'lazy', 4], ['DOG', 'dog', 3]]\n",
      "e) ['quick', 'brown', 'jumps', 'over', 'lazy']\n"
     ]
    }
   ],
   "source": [
    "words = ['The', 'quick', 'brown', 'fox', 'jumps', 'over', 'the', 'lazy', 'dog']\n",
    "UPPERCASEWORDS_w=[] #list for storing UPPERCASE words\n",
    "LOWERCASEWORDS_w=[] #list for storing LOWERCASE words\n",
    "Length_w=[] #list for storing length of words\n",
    "ULL=[] #list for storing UPPER, LOWER and length of words.\n",
    "\n",
    "for word in words:     #running loop through all the words  \n",
    "         \n",
    "    UPPERCASEWORDS_w+=[word.upper()]    #converting words to uppercase and storing in  UPPERCASEWORDS_w list \n",
    "   \n",
    "    LOWERCASEWORDS_w+=[word.lower()]  #converting words to lowercase and storing in  LOWERCASEWORDS_w list\n",
    " \n",
    "    Length_w+=[len(word)]  #checking length of words and storing in  Length_w list    \n",
    "  \n",
    "    ULL+=[[word.upper(),word.lower(),len(word)]]  \n",
    "\n",
    "Len_4=[word for word in words if len(word)>= 4] #printing words with length greater or = to 4\n",
    "    \n",
    "#Printing result\n",
    "print(\"a)\",UPPERCASEWORDS_w)\n",
    "print(\"b)\", LOWERCASEWORDS_w)\n",
    "print(\"c)\",Length_w)\n",
    "print(\"d)\",ULL)   \n",
    "print(\"e)\",Len_4)"
   ]
  }
 ],
 "metadata": {
  "kernelspec": {
   "display_name": "Python 3 (ipykernel)",
   "language": "python",
   "name": "python3"
  },
  "language_info": {
   "codemirror_mode": {
    "name": "ipython",
    "version": 3
   },
   "file_extension": ".py",
   "mimetype": "text/x-python",
   "name": "python",
   "nbconvert_exporter": "python",
   "pygments_lexer": "ipython3",
   "version": "3.10.9"
  }
 },
 "nbformat": 4,
 "nbformat_minor": 5
}
